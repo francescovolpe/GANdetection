{
 "cells": [
  {
   "cell_type": "code",
   "execution_count": null,
   "metadata": {
    "id": "q0tov1vLJKox"
   },
   "outputs": [],
   "source": [
    "! pip3 install face_recognition"
   ]
  },
  {
   "cell_type": "code",
   "execution_count": null,
   "metadata": {
    "id": "XNhaBjZ2Jz3R"
   },
   "outputs": [],
   "source": [
    "# Move to destintion folder\n",
    "% cd /content/drive/MyDrive/"
   ]
  },
  {
   "cell_type": "code",
   "execution_count": null,
   "metadata": {
    "id": "tI9TszVLJ6wp"
   },
   "outputs": [],
   "source": [
    "import math\n",
    "\n",
    "# Choose zoom factor\n",
    "def zoomFace (zoom, left, top, right, bottom):\n",
    "  height = bottom - top\n",
    "  width = right - left\n",
    "\n",
    "  disth = ( (height * math.sqrt(zoom) - height )/2 )\n",
    "  distw = ( (width * math.sqrt(zoom) - width )/2 )\n",
    "  ntop = math.floor(top - disth)\n",
    "  nbottom = math.floor(bottom + disth)\n",
    "  nleft = math.floor(left - distw)\n",
    "  nright = math.floor(right + distw)\n",
    "\n",
    "  return (nleft, ntop, nright, nbottom)"
   ]
  },
  {
   "cell_type": "code",
   "execution_count": null,
   "metadata": {
    "id": "zipnylfQJ9aB"
   },
   "outputs": [],
   "source": [
    "from PIL import Image\n",
    "import face_recognition\n",
    "import glob\n",
    "from pathlib import Path\n",
    "\n",
    "i=0\n",
    "\n",
    "# path source dataset\n",
    "for filename in glob.glob('/content/drive/MyDrive/.../*.png'):\n",
    "  image = face_recognition.load_image_file(filename)\n",
    "  face_locations = face_recognition.face_locations(image)\n",
    "  for face_location in face_locations:\n",
    "    top, right, bottom, left = face_location\n",
    "    print(\"Face detect, Top: {}, Left: {}, Bottom: {}, Right: {}\".format(top, left, bottom, right))\n",
    "    i = i + 1\n",
    "    print (i)\n",
    "\n",
    "    face_image = image[top:bottom, left:right]\n",
    "    pil_image = Image.fromarray(face_image)\n",
    "    pil_image.show()\n",
    "\n",
    "  img = Image.open(filename)\n",
    "  left, top, right, bottom = zoomFace(1,left,top,right,bottom)\n",
    "  width, height = img.size\n",
    "  if left>0 and top>0 and right<width and bottom<height:\n",
    "    img2 = img.crop((left, top, right, bottom))\n",
    "  else:\n",
    "    img2 = img\n",
    "    print (left, top, right, bottom)\n",
    "  \n",
    "  p = Path(filename)\n",
    "  img2.save(p.name)"
   ]
  }
 ],
 "metadata": {
  "accelerator": "GPU",
  "colab": {
   "collapsed_sections": [],
   "name": "facedetect.ipynb",
   "provenance": []
  },
  "kernelspec": {
   "display_name": "Python 3",
   "language": "python",
   "name": "python3"
  },
  "language_info": {
   "codemirror_mode": {
    "name": "ipython",
    "version": 3
   },
   "file_extension": ".py",
   "mimetype": "text/x-python",
   "name": "python",
   "nbconvert_exporter": "python",
   "pygments_lexer": "ipython3",
   "version": "3.7.9"
  }
 },
 "nbformat": 4,
 "nbformat_minor": 1
}
