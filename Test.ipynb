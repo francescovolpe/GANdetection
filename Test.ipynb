{
 "cells": [
  {
   "cell_type": "code",
   "execution_count": null,
   "metadata": {},
   "outputs": [],
   "source": [
    "import numpy as np\n",
    "import os\n",
    "import tensorflow as tf\n",
    "import glob\n",
    "\n",
    "from tensorflow.keras.preprocessing import image_dataset_from_directory"
   ]
  },
  {
   "cell_type": "code",
   "execution_count": null,
   "metadata": {},
   "outputs": [],
   "source": [
    "# Load model\n",
    "model = tf.keras.models.load_model('\\model-path\\save_at_10+1.h5')                                 \n",
    "IMG_SIZE = (160, 160)"
   ]
  },
  {
   "cell_type": "code",
   "execution_count": null,
   "metadata": {},
   "outputs": [],
   "source": [
    "real = 0\n",
    "fake = 0\n",
    "\n",
    "# path source dataset of a single class\n",
    "for file in glob.glob(\"\\dateset-path\\*.png\"): \n",
    "    img = tf.keras.preprocessing.image.load_img( file, target_size=IMG_SIZE )\n",
    "    img_array = tf.keras.preprocessing.image.img_to_array(img)\n",
    "    img_array = tf.expand_dims(img_array, 0)\n",
    "\n",
    "    predictions = model.predict(img_array)\n",
    "    score = predictions[0]\n",
    "    \n",
    "\n",
    "    score = tf.math.sigmoid(score)\n",
    "    \n",
    "    if ( 100 * (1 - score) ) > ( 100 * score ):\n",
    "        real += 1\n",
    "    else:\n",
    "        fake += 1\n",
    "    \n",
    "    print (real, fake)"
   ]
  }
 ],
 "metadata": {
  "kernelspec": {
   "display_name": "Python tf-n",
   "language": "python",
   "name": "tf-n"
  },
  "language_info": {
   "codemirror_mode": {
    "name": "ipython",
    "version": 3
   },
   "file_extension": ".py",
   "mimetype": "text/x-python",
   "name": "python",
   "nbconvert_exporter": "python",
   "pygments_lexer": "ipython3",
   "version": "3.8.5"
  }
 },
 "nbformat": 4,
 "nbformat_minor": 4
}
